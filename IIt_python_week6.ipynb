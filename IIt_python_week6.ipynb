{
  "nbformat": 4,
  "nbformat_minor": 0,
  "metadata": {
    "colab": {
      "name": "IIt_python_week6.ipynb",
      "provenance": [],
      "authorship_tag": "ABX9TyO9gKgSb32ROGoJ9Tyb7gd4",
      "include_colab_link": true
    },
    "kernelspec": {
      "name": "python3",
      "display_name": "Python 3"
    },
    "language_info": {
      "name": "python"
    }
  },
  "cells": [
    {
      "cell_type": "markdown",
      "metadata": {
        "id": "view-in-github",
        "colab_type": "text"
      },
      "source": [
        "<a href=\"https://colab.research.google.com/github/HarshalBhangale/scratch/blob/main/IIt_python_week6.ipynb\" target=\"_parent\"><img src=\"https://colab.research.google.com/assets/colab-badge.svg\" alt=\"Open In Colab\"/></a>"
      ]
    },
    {
      "cell_type": "markdown",
      "source": [
        "PPA !\n",
        "\n",
        "Accept a sequence of words as input. Create a dictionary named freq whose keys are the distinct words in the sequence. The value corresponding to a key (word) should be the frequency of occurrence of the key (word) in the sequence.\n",
        "\n",
        "(1) You can assume that all words will be in lower case.\n",
        "\n",
        "(2) You do not have to print the output to the console. This will be the responsibility of the autograder.\n",
        "\n"
      ],
      "metadata": {
        "id": "kPzL8D1BhY3F"
      }
    },
    {
      "cell_type": "code",
      "execution_count": null,
      "metadata": {
        "colab": {
          "base_uri": "https://localhost:8080/"
        },
        "id": "cB1amv53hPNY",
        "outputId": "6187a04e-404c-40f5-a21e-a765f8427ba5"
      },
      "outputs": [
        {
          "output_type": "stream",
          "name": "stdout",
          "text": [
            "a,b,c,d,e,f,g,h,i,j,k,l,a,b,c,c,d,e,f,f,f,f,f\n",
            "{'a': 1, 'b': 1, 'c': 2, 'd': 1, 'e': 1, 'f': 5, 'g': 0, 'h': 0, 'i': 0, 'j': 0, 'k': 0, 'l': 0}\n"
          ]
        }
      ],
      "source": [
        "L = input().split(',')\n",
        "freq= dict()\n",
        "for x in L:\n",
        "  if x not in freq:\n",
        "    freq[x]=0\n",
        "  else:\n",
        "    freq[x] = freq[x] + 1\n",
        "\n",
        "\n",
        "\n",
        "print(freq)\n",
        "\n",
        "  \n",
        "\n"
      ]
    },
    {
      "cell_type": "markdown",
      "source": [
        "========================================================================================"
      ],
      "metadata": {
        "id": "VPOmGEBelyc9"
      }
    },
    {
      "cell_type": "code",
      "source": [
        ""
      ],
      "metadata": {
        "id": "1QtUA96pkwAz"
      },
      "execution_count": null,
      "outputs": []
    },
    {
      "cell_type": "markdown",
      "source": [
        "\n",
        "Accept a positive integer as input and print the digits present in it from left to right. Each digit should be printed as a lower case word on a separate line. How would you use dictionaries to solve this problem?"
      ],
      "metadata": {
        "id": "aMrbAxaUl_f1"
      }
    },
    {
      "cell_type": "code",
      "source": [
        "L = {'0':'zero','1':'one','2':'two','3':'three','4':'four','5':'five','6':'six','7':'seven','8':'eight','9':'nine'}\n",
        "\n",
        "\n",
        "numb=input('enter the Number you wanted in printed format :::')\n",
        "for x in numb:\n",
        "  print(L[x],end =',')\n",
        "\n"
      ],
      "metadata": {
        "colab": {
          "base_uri": "https://localhost:8080/"
        },
        "id": "abgOpaF-mQz9",
        "outputId": "0be52c7b-81e4-4d70-a5c8-26bb44aea9c3"
      },
      "execution_count": null,
      "outputs": [
        {
          "output_type": "stream",
          "name": "stdout",
          "text": [
            "enter the Number you wanted in printed format :::8456845\n",
            "eight,four,five,six,eight,four,five,"
          ]
        }
      ]
    },
    {
      "cell_type": "markdown",
      "source": [
        "========================================================================================================\n",
        "\n",
        "\n",
        "1) is_key: accept a dictionary D and a variable key as arguments. Return True if the variable key is a key of the dictionary D, and False otherwise.\n",
        "\n",
        "(2) value: accept a dictionary D and a variable key as arguments. If the variable key is not a key of the dictionary D, return None, otherwise, return the value corresponding to this key.\n",
        "\n",
        " 1\n",
        " 2\n",
        " 3\n",
        " 4\n",
        " 5\n",
        " 6\n",
        " 7\n",
        " 8\n",
        " 9\n",
        "10\n",
        "11\n",
        "12\n",
        "13\n",
        "14\n",
        "15\n",
        "16\n",
        "17\n",
        "18\n",
        "def is_key(D, key):\n",
        "    '''\n",
        "        Arguments:\n",
        "            D: dict\n",
        "            key: could be of any type\n",
        "        Return:\n",
        "            bool\n",
        "    '''\n",
        "    pass\n",
        "\n",
        "def value(D, key):\n",
        "    '''\n",
        "        Arguments:\n",
        "            D: dict\n",
        "            key: could be of any type\n",
        "        Return:\n",
        "            result: depends on the dict; refer problem statement\n",
        "    '''"
      ],
      "metadata": {
        "id": "A-AMPxfIqM0s"
      }
    },
    {
      "cell_type": "code",
      "source": [
        "\n",
        "\n",
        "def is_key(D, key):\n",
        "    return key in D\n",
        "\n",
        "def value(D, key):\n",
        "    if is_key(D,key):\n",
        "      return D[key]\n",
        "    return None\n"
      ],
      "metadata": {
        "id": "0vWMzb8RmRGO"
      },
      "execution_count": null,
      "outputs": []
    },
    {
      "cell_type": "markdown",
      "source": [
        "========================================================================================"
      ],
      "metadata": {
        "id": "MO6GUqXY4Fux"
      }
    },
    {
      "cell_type": "code",
      "source": [
        "values = []\n",
        "def value_to_keys(D,value):\n",
        "  for key in D:\n",
        "    if D[key] == value:\n",
        "      values.append(key)\n",
        "  return values\n",
        "\n",
        "print(values)\n",
        "\n",
        "value_to_keys({'a': 1, 'b': 2, 'c': 3, 'd': 1, 'e': 2, 'f': 1, 'g': 1}, 100)\n",
        "  "
      ],
      "metadata": {
        "colab": {
          "base_uri": "https://localhost:8080/"
        },
        "id": "k1UfatjCuXKS",
        "outputId": "2081b6b7-1b22-47c1-c15e-7865332f51eb"
      },
      "execution_count": null,
      "outputs": [
        {
          "output_type": "stream",
          "name": "stdout",
          "text": [
            "[]\n"
          ]
        },
        {
          "output_type": "execute_result",
          "data": {
            "text/plain": [
              "[]"
            ]
          },
          "metadata": {},
          "execution_count": 45
        }
      ]
    },
    {
      "cell_type": "markdown",
      "source": [
        "========================================================================================\n"
      ],
      "metadata": {
        "id": "ovVQUqNQ4L3m"
      }
    },
    {
      "cell_type": "code",
      "source": [
        "'''D={'1': 'one', '2': 'two', '3': 'three', '4': 'four'}\n",
        "def dict_list(D):\n",
        "  nlist=[]\n",
        "  for key in D:\n",
        "    nlist.append((key,D[key]))\n",
        "  return nlist\n",
        "dict_list(D)\n",
        "'''\n",
        "L=[('def', 10), ('abc', 3)]\n",
        "\n",
        "def list_dict(L):\n",
        "  D = dict()\n",
        "  for i,j in L:\n",
        "    D[i]=j\n",
        "  return D\n",
        "  # l[1]=key and l[2]=D[key]\n",
        "\n",
        "\n",
        "list_dict(L) \n",
        "\n",
        "   "
      ],
      "metadata": {
        "colab": {
          "base_uri": "https://localhost:8080/"
        },
        "id": "HxChiEJ-yGms",
        "outputId": "2b9185ea-893d-45d6-9ef4-da780c17ba9a"
      },
      "execution_count": null,
      "outputs": [
        {
          "output_type": "execute_result",
          "data": {
            "text/plain": [
              "{'abc': 3, 'def': 10}"
            ]
          },
          "metadata": {},
          "execution_count": 61
        }
      ]
    },
    {
      "cell_type": "markdown",
      "source": [
        "========================================================================================\n"
      ],
      "metadata": {
        "id": "0Ap845Ap4R4H"
      }
    },
    {
      "cell_type": "code",
      "source": [
        "dataset = {'SeqNo': 1, 'Name': 'Devika', 'Gender': 'F', 'City': 'Bengaluru', \n",
        " 'Mathematics': 85, 'Physics': 60, 'Chemistry': 79, 'Biology': 75, \n",
        " 'Computer Science': 88, 'History': 60, 'Civics': 88, 'Philosophy': 95}\n",
        "subject = 'Civics'\n",
        "\n",
        "'''\n",
        "Li = []\n",
        "def fetch_marks(dataset,subject):\n",
        "  \n",
        "  # Created Empty list Here\n",
        "  for student \n",
        "\n",
        "fetch_marks(dataset, 'Physics')\n",
        "print(Li)\n",
        "\n",
        "\n",
        "DO AGAIN\n",
        "'''\n",
        "\n",
        "\n",
        "\n"
      ],
      "metadata": {
        "colab": {
          "base_uri": "https://localhost:8080/",
          "height": 55
        },
        "id": "pf085F2u34cn",
        "outputId": "aa1ccbf6-ff5f-48cc-e61c-ce741f93b71c"
      },
      "execution_count": null,
      "outputs": [
        {
          "output_type": "execute_result",
          "data": {
            "application/vnd.google.colaboratory.intrinsic+json": {
              "type": "string"
            },
            "text/plain": [
              "\"\\nLi = []\\ndef fetch_marks(dataset,subject):\\n  \\n  # Created Empty list Here\\n  for student \\n\\nfetch_marks(dataset, 'Physics')\\nprint(Li)\\n\\n\\nDO AGAIN\\n\""
            ]
          },
          "metadata": {},
          "execution_count": 88
        }
      ]
    },
    {
      "cell_type": "markdown",
      "source": [
        "In this problem, we shall try to create the list of dictionaries which was given to us in the previous problem.\n",
        "\n",
        "Accept a positive integer nn that represents the number of students in the class. nn blocks of input follow. Each block is made up of six lines and contains the details of one student in the class. Create a dictionary corresponding to each student. All keys should be strings. The type of the value corresponding to a key and the order in which the inputs should be accepted are shown in the table given below.\n",
        "\n",
        "Line number\tKey\tType of Value\n",
        "\n",
        "1\tName\tString\n",
        "\n",
        "2\tCity\tString\n",
        "\n",
        "3\tSeqNo\tInteger\n",
        "\n",
        "4\tMathematics\tInteger\n",
        "\n",
        "5\tPhysics\tInteger\n",
        "\n",
        "6\tChemistry\tInteger\n",
        "Append each dictionary to a list named scores_dataset. This is the list that we will finally use for evaluating your code. The dictionaries corresponding to the students should be appended in the order in which they appear in the sequence of inputs."
      ],
      "metadata": {
        "id": "ku_TlfNZB1yx"
      }
    },
    {
      "cell_type": "code",
      "source": [
        "n = int(input())\n",
        "dataset = []\n",
        "for i in range(n):\n",
        "  d=dict()\n",
        "  d['NAME']=input()\n",
        "  d['CITY']=input()\n",
        "  d['SEQNO']=input()\n",
        "  d['MATHS']=input()\n",
        "  d['PHYSICS']=input()\n",
        "  d['CHEMISTRY']=input()\n",
        "  dataset.append(d)\n",
        "\n",
        "\n",
        "print(dataset)\n",
        "\n",
        "\n",
        "\n",
        "\n",
        "\n"
      ],
      "metadata": {
        "colab": {
          "base_uri": "https://localhost:8080/"
        },
        "id": "aT1NHnSK8Khw",
        "outputId": "d8bf6029-e0b1-42cb-9983-d00e62b4945f"
      },
      "execution_count": null,
      "outputs": [
        {
          "output_type": "stream",
          "name": "stdout",
          "text": [
            "1\n",
            "harshal\n",
            "1\n",
            "85\n",
            "7\n",
            "48\n",
            "89\n",
            "[{'NAME': 'harshal', 'CITY': '1', 'SEQNO': '85', 'MATHS': '7', 'PHYSICS': '48', 'CHEMISTRY': '89'}]\n"
          ]
        }
      ]
    },
    {
      "cell_type": "code",
      "source": [
        "num = int(input())\n",
        "def factors(num):\n",
        "  factors = set()\n",
        "  for i in range(1,num):\n",
        "    if num % i == 0:\n",
        "      factors.add(i)\n",
        "  return factors\n",
        "factors(num)\n",
        "\n",
        "print(factors)   \n",
        "\n",
        "\n",
        "def common_factors(a, b):\n",
        "  \n",
        "\n",
        "def factors_upto(n):\n",
        "  pass"
      ],
      "metadata": {
        "colab": {
          "base_uri": "https://localhost:8080/"
        },
        "id": "SLvtHlGMFJ9b",
        "outputId": "acaf33be-f861-4e9f-a7ac-c412eea8a1db"
      },
      "execution_count": null,
      "outputs": [
        {
          "output_type": "stream",
          "name": "stdout",
          "text": [
            "100\n",
            "<function factors at 0x7f9f414a9320>\n"
          ]
        }
      ]
    }
  ]
}